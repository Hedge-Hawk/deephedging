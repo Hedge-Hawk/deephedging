{
 "cells": [
  {
   "cell_type": "code",
   "execution_count": 1,
   "id": "a252eb1f-9c50-4425-8618-792e132d6c64",
   "metadata": {},
   "outputs": [],
   "source": [
    "!pip -q install tensorboard tensorboard_plugin_profile tensorflow_datasets"
   ]
  },
  {
   "cell_type": "code",
   "execution_count": 2,
   "id": "0a4428ff-c350-431c-91e8-cb1b22385522",
   "metadata": {},
   "outputs": [
    {
     "name": "stderr",
     "output_type": "stream",
     "text": [
      "2023-01-17 14:20:20.859276: I tensorflow/core/platform/cpu_feature_guard.cc:193] This TensorFlow binary is optimized with oneAPI Deep Neural Network Library (oneDNN) to use the following CPU instructions in performance-critical operations:  AVX2 AVX512F FMA\n",
      "To enable them in other operations, rebuild TensorFlow with the appropriate compiler flags.\n",
      "2023-01-17 14:20:21.044107: E tensorflow/stream_executor/cuda/cuda_blas.cc:2981] Unable to register cuBLAS factory: Attempting to register factory for plugin cuBLAS when one has already been registered\n"
     ]
    },
    {
     "name": "stdout",
     "output_type": "stream",
     "text": [
      "TensorFlow version:  2.10.0\n"
     ]
    },
    {
     "name": "stderr",
     "output_type": "stream",
     "text": [
      "2023-01-17 14:20:23.614884: E tensorflow/stream_executor/cuda/cuda_driver.cc:265] failed call to cuInit: CUDA_ERROR_NO_DEVICE: no CUDA-capable device is detected\n",
      "2023-01-17 14:20:23.614932: I tensorflow/stream_executor/cuda/cuda_diagnostics.cc:156] kernel driver does not appear to be running on this host (ip-172-16-12-144.eu-west-2.compute.internal): /proc/driver/nvidia/version does not exist\n",
      "2023-01-17 14:20:23.615781: I tensorflow/core/platform/cpu_feature_guard.cc:193] This TensorFlow binary is optimized with oneAPI Deep Neural Network Library (oneDNN) to use the following CPU instructions in performance-critical operations:  AVX2 AVX512F FMA\n",
      "To enable them in other operations, rebuild TensorFlow with the appropriate compiler flags.\n",
      "2023-01-17 14:20:23.833420: I tensorflow/core/profiler/lib/profiler_session.cc:101] Profiler session initializing.\n",
      "2023-01-17 14:20:23.833458: I tensorflow/core/profiler/lib/profiler_session.cc:116] Profiler session started.\n"
     ]
    },
    {
     "name": "stdout",
     "output_type": "stream",
     "text": [
      "Epoch 1/2\n"
     ]
    },
    {
     "name": "stderr",
     "output_type": "stream",
     "text": [
      "2023-01-17 14:20:23.999574: I tensorflow/core/profiler/lib/profiler_session.cc:128] Profiler session tear down.\n"
     ]
    },
    {
     "name": "stdout",
     "output_type": "stream",
     "text": [
      "469/469 [==============================] - 3s 5ms/step - loss: 0.3596 - accuracy: 0.9007 - val_loss: 0.1864 - val_accuracy: 0.9458\n",
      "Epoch 2/2\n",
      " 45/469 [=>............................] - ETA: 0s - loss: 0.1923 - accuracy: 0.9444"
     ]
    },
    {
     "name": "stderr",
     "output_type": "stream",
     "text": [
      "2023-01-17 14:20:27.109082: I tensorflow/core/profiler/lib/profiler_session.cc:101] Profiler session initializing.\n",
      "2023-01-17 14:20:27.109120: I tensorflow/core/profiler/lib/profiler_session.cc:116] Profiler session started.\n",
      "2023-01-17 14:20:27.166415: I tensorflow/core/profiler/lib/profiler_session.cc:67] Profiler session collecting data.\n",
      "2023-01-17 14:20:27.252986: I tensorflow/core/profiler/lib/profiler_session.cc:128] Profiler session tear down.\n"
     ]
    },
    {
     "name": "stdout",
     "output_type": "stream",
     "text": [
      " 75/469 [===>..........................] - ETA: 2s - loss: 0.1891 - accuracy: 0.9467"
     ]
    },
    {
     "name": "stderr",
     "output_type": "stream",
     "text": [
      "2023-01-17 14:20:27.377866: I tensorflow/core/profiler/rpc/client/save_profile.cc:136] Creating directory: logs/20230117-142023/plugins/profile/2023_01_17_14_20_27\n",
      "\n",
      "2023-01-17 14:20:27.471719: I tensorflow/core/profiler/rpc/client/save_profile.cc:142] Dumped gzipped tool data for trace.json.gz to logs/20230117-142023/plugins/profile/2023_01_17_14_20_27/ip-172-16-12-144.eu-west-2.compute.internal.trace.json.gz\n",
      "2023-01-17 14:20:27.512032: I tensorflow/core/profiler/rpc/client/save_profile.cc:136] Creating directory: logs/20230117-142023/plugins/profile/2023_01_17_14_20_27\n",
      "\n",
      "2023-01-17 14:20:27.512206: I tensorflow/core/profiler/rpc/client/save_profile.cc:142] Dumped gzipped tool data for memory_profile.json.gz to logs/20230117-142023/plugins/profile/2023_01_17_14_20_27/ip-172-16-12-144.eu-west-2.compute.internal.memory_profile.json.gz\n",
      "2023-01-17 14:20:27.513655: I tensorflow/core/profiler/rpc/client/capture_profile.cc:251] Creating directory: logs/20230117-142023/plugins/profile/2023_01_17_14_20_27\n",
      "Dumped tool data for xplane.pb to logs/20230117-142023/plugins/profile/2023_01_17_14_20_27/ip-172-16-12-144.eu-west-2.compute.internal.xplane.pb\n",
      "Dumped tool data for overview_page.pb to logs/20230117-142023/plugins/profile/2023_01_17_14_20_27/ip-172-16-12-144.eu-west-2.compute.internal.overview_page.pb\n",
      "Dumped tool data for input_pipeline.pb to logs/20230117-142023/plugins/profile/2023_01_17_14_20_27/ip-172-16-12-144.eu-west-2.compute.internal.input_pipeline.pb\n",
      "Dumped tool data for tensorflow_stats.pb to logs/20230117-142023/plugins/profile/2023_01_17_14_20_27/ip-172-16-12-144.eu-west-2.compute.internal.tensorflow_stats.pb\n",
      "Dumped tool data for kernel_stats.pb to logs/20230117-142023/plugins/profile/2023_01_17_14_20_27/ip-172-16-12-144.eu-west-2.compute.internal.kernel_stats.pb\n",
      "\n"
     ]
    },
    {
     "name": "stdout",
     "output_type": "stream",
     "text": [
      "469/469 [==============================] - 2s 3ms/step - loss: 0.1614 - accuracy: 0.9540 - val_loss: 0.1354 - val_accuracy: 0.9609\n"
     ]
    },
    {
     "data": {
      "text/plain": [
       "<keras.callbacks.History at 0x7f4f743f0b80>"
      ]
     },
     "execution_count": 2,
     "metadata": {},
     "output_type": "execute_result"
    }
   ],
   "source": [
    "from datetime import datetime\n",
    "from packaging import version\n",
    "\n",
    "import os\n",
    "import tensorflow as tf\n",
    "\n",
    "print(\"TensorFlow version: \", tf.__version__)\n",
    "import tensorflow_datasets as tfds\n",
    "tfds.disable_progress_bar()\n",
    "(ds_train, ds_test), ds_info = tfds.load(\n",
    "    'mnist',\n",
    "    split=['train', 'test'],\n",
    "    shuffle_files=True,\n",
    "    as_supervised=True,\n",
    "    with_info=True,\n",
    ")\n",
    "\n",
    "def normalize_img(image, label):\n",
    "  \"\"\"Normalizes images: `uint8` -> `float32`.\"\"\"\n",
    "  return tf.cast(image, tf.float32) / 255., label\n",
    "\n",
    "ds_train = ds_train.map(normalize_img)\n",
    "ds_train = ds_train.batch(128)\n",
    "\n",
    "ds_test = ds_test.map(normalize_img)\n",
    "ds_test = ds_test.batch(128)\n",
    "\n",
    "model = tf.keras.models.Sequential([\n",
    "  tf.keras.layers.Flatten(input_shape=(28, 28, 1)),\n",
    "  tf.keras.layers.Dense(128,activation='relu'),\n",
    "  tf.keras.layers.Dense(10, activation='softmax')\n",
    "])\n",
    "model.compile(\n",
    "    loss='sparse_categorical_crossentropy',\n",
    "    optimizer=tf.keras.optimizers.Adam(0.001),\n",
    "    metrics=['accuracy']\n",
    ")\n",
    "\n",
    "# Create a TensorBoard callback\n",
    "logs = \"logs/\" + datetime.now().strftime(\"%Y%m%d-%H%M%S\")\n",
    "\n",
    "tboard_callback = tf.keras.callbacks.TensorBoard(log_dir = logs,\n",
    "                                                 histogram_freq = 1,\n",
    "                                                 profile_batch = '500,520')\n",
    "\n",
    "model.fit(ds_train,\n",
    "          epochs=2,\n",
    "          validation_data=ds_test,\n",
    "          callbacks = [tboard_callback])"
   ]
  },
  {
   "cell_type": "code",
   "execution_count": 3,
   "id": "f9023de9-56a4-461f-9353-dcaec79af114",
   "metadata": {},
   "outputs": [
    {
     "data": {
      "text/html": [
       "\n",
       "      <iframe id=\"tensorboard-frame-4c6483daa6b71f14\" width=\"100%\" height=\"800\" frameborder=\"0\">\n",
       "      </iframe>\n",
       "      <script>\n",
       "        (function() {\n",
       "          const frame = document.getElementById(\"tensorboard-frame-4c6483daa6b71f14\");\n",
       "          const url = new URL(\"/\", window.location);\n",
       "          const port = 6006;\n",
       "          if (port) {\n",
       "            url.port = port;\n",
       "          }\n",
       "          frame.src = url;\n",
       "        })();\n",
       "      </script>\n",
       "    "
      ],
      "text/plain": [
       "<IPython.core.display.HTML object>"
      ]
     },
     "metadata": {},
     "output_type": "display_data"
    }
   ],
   "source": [
    "# Load the TensorBoard notebook extension.\n",
    "%reload_ext tensorboard\n",
    "# Launch TensorBoard and navigate to the Profile tab to view performance profile\n",
    "%tensorboard --logdir=logs\n"
   ]
  },
  {
   "cell_type": "code",
   "execution_count": null,
   "id": "b9ce4a49-f24a-4c64-8a5f-e231df4273f8",
   "metadata": {},
   "outputs": [],
   "source": []
  }
 ],
 "metadata": {
  "kernelspec": {
   "display_name": "conda_tensorflow2_p310",
   "language": "python",
   "name": "conda_tensorflow2_p310"
  },
  "language_info": {
   "codemirror_mode": {
    "name": "ipython",
    "version": 3
   },
   "file_extension": ".py",
   "mimetype": "text/x-python",
   "name": "python",
   "nbconvert_exporter": "python",
   "pygments_lexer": "ipython3",
   "version": "3.10.6"
  }
 },
 "nbformat": 4,
 "nbformat_minor": 5
}
