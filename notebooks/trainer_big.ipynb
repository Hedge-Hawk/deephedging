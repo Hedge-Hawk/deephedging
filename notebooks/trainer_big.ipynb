{
 "cells": [
  {
   "cell_type": "markdown",
   "id": "e9e9279e-55b6-407d-a439-8a7c007974c3",
   "metadata": {},
   "source": [
    "# Deep Hedging AI\n",
    "### Vanilla Deep Hedging engine reference implementation with dynamic training update.\n",
    "### This is the main example notebook\n",
    "\n",
    "Hans Buehler, June 30 2022\n"
   ]
  },
  {
   "cell_type": "code",
   "execution_count": 1,
   "id": "2d4e96d5-7016-4d65-97f6-e95f21df85b0",
   "metadata": {},
   "outputs": [
    {
     "name": "stdout",
     "output_type": "stream",
     "text": [
      "Added python path /home/ec2-user/SageMaker\n"
     ]
    }
   ],
   "source": [
    "import os # *** this is reqired for sagemaker ***\n",
    "p = os.getcwd()\n",
    "end = \"/deephedging/notebooks\"\n",
    "assert p[-len(end):] == end, \"*** Error: expected current working directory to end with %s but it is %s\" % (end,p)\n",
    "p = p[:-len(end)]\n",
    "import sys\n",
    "sys.path.append(p)\n",
    "print(\"Added python path %s\" % p)"
   ]
  },
  {
   "cell_type": "code",
   "execution_count": null,
   "id": "861ef34b-392f-410d-9798-072ad8499019",
   "metadata": {},
   "outputs": [
    {
     "name": "stdout",
     "output_type": "stream",
     "text": [
      "Deep Hedging AI says hello  ... "
     ]
    },
    {
     "name": "stderr",
     "output_type": "stream",
     "text": [
      "2023-01-06 20:54:29.235882: E tensorflow/stream_executor/cuda/cuda_driver.cc:271] failed call to cuInit: CUDA_ERROR_NO_DEVICE: no CUDA-capable device is detected\n",
      "2023-01-06 20:54:29.235940: I tensorflow/stream_executor/cuda/cuda_diagnostics.cc:156] kernel driver does not appear to be running on this host (ip-172-16-62-116.us-east-2.compute.internal): /proc/driver/nvidia/version does not exist\n"
     ]
    },
    {
     "name": "stdout",
     "output_type": "stream",
     "text": [
      "Tensorflow version 2.7.4 running on 1 CPUs and 0 GPUs\n"
     ]
    },
    {
     "data": {
      "text/markdown": [
       "## Deep Hedging in a Black \\& Scholes World"
      ],
      "text/plain": [
       "<IPython.core.display.Markdown object>"
      ]
     },
     "metadata": {},
     "output_type": "display_data"
    },
    {
     "name": "stderr",
     "output_type": "stream",
     "text": [
      "2023-01-06 20:54:30.336072: I tensorflow/core/platform/cpu_feature_guard.cc:151] This TensorFlow binary is optimized with oneAPI Deep Neural Network Library (oneDNN) to use the following CPU instructions in performance-critical operations:  AVX2 AVX512F FMA\n",
      "To enable them in other operations, rebuild TensorFlow with the appropriate compiler flags.\n",
      "2023-01-06 20:54:32.471821: W tensorflow/python/util/util.cc:368] Sets are not currently considered sequences, but this may change in the future, so consider avoiding using them.\n"
     ]
    },
    {
     "name": "stdout",
     "output_type": "stream",
     "text": [
      "\u001b[2KDeep Hedging Engine: first of 400 epochs for 50000 samples (1000 validation samples) started. Compiling graph ...       "
     ]
    }
   ],
   "source": [
    "print(\"Deep Hedging AI says hello  ... \", end='')\n",
    "from cdxbasics.config import Config\n",
    "from deephedging.trainer import train\n",
    "from deephedging.gym import VanillaDeepHedgingGym\n",
    "from deephedging.world import SimpleWorld_Spot_ATM\n",
    "\n",
    "from IPython.display import display, Markdown\n",
    "\n",
    "# see print of the config below for numerous options\n",
    "config = Config()\n",
    "# world\n",
    "config.world.samples = 50000\n",
    "config.world.steps = 20\n",
    "config.world.black_scholes = True\n",
    "# gym\n",
    "config.gym.objective.utility = \"cvar\"\n",
    "config.gym.objective.lmbda = 10.\n",
    "config.gym.agent.network.depth = 3\n",
    "config.gym.agent.network.activation = \"softplus\"\n",
    "# trainer\n",
    "config.trainer.train.batch_size = 5000\n",
    "config.trainer.train.epochs = 400\n",
    "config.trainer.visual.epoch_refresh = 1\n",
    "config.trainer.visual.time_refresh = 10\n",
    "config.trainer.visual.confidence_pcnt_lo = 0.25\n",
    "config.trainer.visual.confidence_pcnt_hi = 0.75\n",
    "\n",
    "display(Markdown(\"## Deep Hedging in a Black \\& Scholes World\"))\n",
    "\n",
    "# create world\n",
    "world  = SimpleWorld_Spot_ATM( config.world )\n",
    "val_world  = world.clone(samples=1000)\n",
    "\n",
    "# create training environment\n",
    "gym = VanillaDeepHedgingGym( config.gym )\n",
    "\n",
    "# create training environment\n",
    "train( gym=gym, world=world, val_world=val_world, config=config.trainer )\n",
    "r = gym(world.tf_data)\n",
    "print(\"Keys of the dictionary returned by the gym: \", r.keys())\n",
    "\n",
    "print(\"=========================================\")\n",
    "print(\"Config usage report\")\n",
    "print(\"=========================================\")\n",
    "print( config.usage_report() )\n",
    "config.done()"
   ]
  },
  {
   "cell_type": "markdown",
   "id": "cbda7c65-00e3-4146-8497-814a3e9a461a",
   "metadata": {},
   "source": [
    "### Comparison to Black & Scholes\n",
    "Note that we use medium risk aversion, hence the hedge is not expected to match the risk-neutral hedge. See the sub directory <tt>blackscholes</tt> for experiments approximating the black & scholes solution"
   ]
  },
  {
   "cell_type": "code",
   "execution_count": null,
   "id": "396f7aa0-5f73-4815-ab95-af92f1d14360",
   "metadata": {},
   "outputs": [],
   "source": [
    "import deephedging.plot_bs_hedge as plot_bs_hedge\n",
    "import imp\n",
    "imp.reload(plot_bs_hedge)\n",
    "\n",
    "plot_bs_hedge.plot_blackscholes( world, gym, config )"
   ]
  },
  {
   "cell_type": "code",
   "execution_count": null,
   "id": "e8c62f4a-49f0-4741-b1ee-d08f6fd322b3",
   "metadata": {},
   "outputs": [],
   "source": [
    "print(\"Deep Hedging AI says hello  ... \", end='')\n",
    "from cdxbasics.config import Config\n",
    "from deephedging.trainer import train\n",
    "from deephedging.gym import VanillaDeepHedgingGym\n",
    "from deephedging.world import SimpleWorld_Spot_ATM\n",
    "import tensorflow as tf\n",
    "\n",
    "from IPython.display import display, Markdown\n",
    "\n",
    "# see print of the config below for numerous options\n",
    "config = Config()\n",
    "# world\n",
    "config.world.samples = 50000\n",
    "config.world.steps = 20\n",
    "config.world.black_scholes = False\n",
    "# gym\n",
    "config.gym.objective.utility = \"cvar\"\n",
    "config.gym.objective.lmbda = 10.\n",
    "config.gym.agent.network.depth = 3\n",
    "config.gym.agent.network.activation = \"softplus\"\n",
    "# trainer\n",
    "config.trainer.train.batch_size = 5000\n",
    "config.trainer.train.epochs = 600\n",
    "config.trainer.train.run_eagerly = None\n",
    "config.trainer.visual.epoch_refresh = 1\n",
    "config.trainer.visual.time_refresh = 10\n",
    "config.trainer.visual.confidence_pcnt_lo = 0.25\n",
    "config.trainer.visual.confidence_pcnt_hi = 0.75\n",
    "\n",
    "display(Markdown(\"## Deep Hedging in simple Stochastic Volatility World\"))\n",
    "\n",
    "# create world\n",
    "world  = SimpleWorld_Spot_ATM( config.world )\n",
    "val_world  = world.clone(samples=1000)\n",
    "\n",
    "# create training environment\n",
    "tf.debugging.enable_check_numerics()\n",
    "gym = VanillaDeepHedgingGym( config.gym )\n",
    "\n",
    "# create training environment\n",
    "train( gym=gym, world=world, val_world=val_world, config=config.trainer )\n",
    "r = gym(world.tf_data)\n",
    "print(\"Keys of the dictionary returned by the gym: \", r.keys())\n",
    "\n",
    "print(\"=========================================\")\n",
    "print(\"Config usage report\")\n",
    "print(\"=========================================\")\n",
    "print( config.usage_report() )\n",
    "config.done()"
   ]
  },
  {
   "cell_type": "code",
   "execution_count": null,
   "id": "0eba112b-167c-4752-bd16-3bb8ca56eafa",
   "metadata": {},
   "outputs": [],
   "source": []
  }
 ],
 "metadata": {
  "kernelspec": {
   "display_name": "conda_tensorflow2_p38",
   "language": "python",
   "name": "conda_tensorflow2_p38"
  },
  "language_info": {
   "codemirror_mode": {
    "name": "ipython",
    "version": 3
   },
   "file_extension": ".py",
   "mimetype": "text/x-python",
   "name": "python",
   "nbconvert_exporter": "python",
   "pygments_lexer": "ipython3",
   "version": "3.8.12"
  }
 },
 "nbformat": 4,
 "nbformat_minor": 5
}
